{
 "cells": [
  {
   "cell_type": "code",
   "execution_count": 7,
   "metadata": {},
   "outputs": [],
   "source": [
    "import numpy as np\n",
    "import matplotlib.pyplot as plt\n",
    "\n",
    "#use this line if you're using jupyter notebook\n",
    "%matplotlib inline\n",
    "\n",
    "# for the purpose of ease of use, i'll be following the sklearn norms\n",
    "class Linear_regression:\n",
    "    \n",
    "    def __init__ (self, learning_rate=0.001, epochs=100):\n",
    "        self.learning_rate = learning_rate           \n",
    "        self.epochs = epochs                        \n",
    "        self.weights= None                      \n",
    "        self.bias = 0\n",
    "        \n",
    "    # Function to train our linear regression   \n",
    "    def fit(self, x,y):\n",
    "        inputs,features= x.shape \n",
    "        self.weights= np.zeros(features)\n",
    "        \n",
    "        \n",
    "        for _ in range(epochs):\n",
    "            prediction= np.dot(x,self.weights) + self.bias\n",
    "            \n",
    "           \n",
    "            # finding the gradient descent\n",
    "            grad_weights = np.dot(x.T,prediction-y)/inputs\n",
    "            grad_bias= np.sum(prediction-y)/inputs\n",
    "            \n",
    "           \n",
    "            #updating the weights and biases\n",
    "            self.weights -= self.learning_rate*grad_weights\n",
    "            self.bias -= self.learning_rate* grad.bias\n",
    "            \n",
    "       \n",
    "        \n",
    "    def predict(self,x): \n",
    "        #predicitng the outputs for our testing data\n",
    "        prediction= np.dot(x,self.weights) + self.bias\n",
    "        return prediction\n",
    "        \n",
    "        # accuracy of our testing set by comparing our predicitons with the actualt outputs\n",
    "    def accruacy(self,x,y):\n",
    "        inputs= x.shape[0]\n",
    "        pred = predict(x)\n",
    "        accuracy = (pred-y)/inputs\n",
    "        return accuracy\n",
    "   \n",
    "   # for a better analysis, let's make a residual plot\n",
    "    def residualplot(self,x,y):\n",
    "        pred= predict(x)\n",
    "        plt.scatter(x, pred-y)\n",
    "  \n",
    "            "
   ]
  },
  {
   "cell_type": "code",
   "execution_count": null,
   "metadata": {},
   "outputs": [],
   "source": []
  }
 ],
 "metadata": {
  "kernelspec": {
   "display_name": "Python 3",
   "language": "python",
   "name": "python3"
  },
  "language_info": {
   "codemirror_mode": {
    "name": "ipython",
    "version": 3
   },
   "file_extension": ".py",
   "mimetype": "text/x-python",
   "name": "python",
   "nbconvert_exporter": "python",
   "pygments_lexer": "ipython3",
   "version": "3.7.6"
  }
 },
 "nbformat": 4,
 "nbformat_minor": 4
}
