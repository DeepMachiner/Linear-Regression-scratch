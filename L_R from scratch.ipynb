{
 "cells": [
  {
   "cell_type": "code",
   "execution_count": 1,
   "metadata": {},
   "outputs": [
    {
     "ename": "SyntaxError",
     "evalue": "unexpected EOF while parsing (<ipython-input-1-58c9f38e6148>, line 18)",
     "output_type": "error",
     "traceback": [
      "\u001b[1;36m  File \u001b[1;32m\"<ipython-input-1-58c9f38e6148>\"\u001b[1;36m, line \u001b[1;32m18\u001b[0m\n\u001b[1;33m    \u001b[0m\n\u001b[1;37m    ^\u001b[0m\n\u001b[1;31mSyntaxError\u001b[0m\u001b[1;31m:\u001b[0m unexpected EOF while parsing\n"
     ]
    }
   ],
   "source": [
    "import numpy as np\n",
    "# for the purpose of ease of use, i'll be following the sklearn norms\n",
    "class Linear_regression:\n",
    "    \n",
    "    def __init__ (self, learning_rate=0.001, epochs=100):\n",
    "        self.learning_rate = learning_rate             # this will be the learning rate that we will use for our gradient descent, you can change while calling the class\n",
    "        self.epochs = epochs                        # this will essentially define the number of times our data will pass through our model\n",
    "        self.weights= None                      \n",
    "        self.bias = 0\n",
    "        \n",
    "        \n",
    "    def fit(self, x,y): # just like in sklearn, this is the fit function, which will essentially be used to train our linear regression with respect to the inputs and outputs      \n",
    "        inputs,features= x.shape # our inputs for most cases will be a 2-D array of size NxM where are the number of inputs or samples and M are the number of features of each sample\n",
    "        self.weights= np.zeros(features) # here we're initializing the weight matrix with respect to the number of features\n",
    "        \n",
    "        \n",
    "        for _ in range(epochs):\n",
    "            prediction= np.dot(x,self.weights) + self.bias # you can think of this step as essentially finding a prediction for our input 'x' from the equation prediction= W*X + B\n",
    "            \n",
    "            # but since we've only just intialized our weights and bias, the first prediciton will be very inaccurate\n",
    "            #now we'll optimize our weights and bias by using gradient descent\n",
    "            \n",
    "            grad_weights = np.dot(x.T,prediction-y)/inputs # I'll explain this in more detail in the theory file\n",
    "            grad_bias= np.sum(prediction-y)/inputs\n",
    "            \n",
    "            # now since we have our gradients, let's update our weights and bias\n",
    "            \n",
    "            self.weights -= self.learning_rate*grad_weights\n",
    "            self.bias -= self.learning_rate* grad.bias\n",
    "            \n",
    "        #and that's it, now let's make a function to predict our outputs using our trained linear regression\n",
    "        \n",
    "        def predict(self,x): #since this function is used to predict, we'll ony be passing in the traing\n",
    "            \n",
    "            "
   ]
  },
  {
   "cell_type": "code",
   "execution_count": null,
   "metadata": {},
   "outputs": [],
   "source": []
  }
 ],
 "metadata": {
  "kernelspec": {
   "display_name": "Python 3",
   "language": "python",
   "name": "python3"
  },
  "language_info": {
   "codemirror_mode": {
    "name": "ipython",
    "version": 3
   },
   "file_extension": ".py",
   "mimetype": "text/x-python",
   "name": "python",
   "nbconvert_exporter": "python",
   "pygments_lexer": "ipython3",
   "version": "3.7.6"
  }
 },
 "nbformat": 4,
 "nbformat_minor": 4
}
